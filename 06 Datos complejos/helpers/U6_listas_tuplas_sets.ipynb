{
  "nbformat": 4,
  "nbformat_minor": 0,
  "metadata": {
    "celltoolbar": "Slideshow",
    "kernelspec": {
      "display_name": "Python 3",
      "language": "python",
      "name": "python3"
    },
    "language_info": {
      "codemirror_mode": {
        "name": "ipython",
        "version": 3
      },
      "file_extension": ".py",
      "mimetype": "text/x-python",
      "name": "python",
      "nbconvert_exporter": "python",
      "pygments_lexer": "ipython3",
      "version": "3.6.9"
    },
    "colab": {
      "provenance": []
    }
  },
  "cells": [
    {
      "cell_type": "markdown",
      "metadata": {
        "id": "Hz80XsvSfe67"
      },
      "source": [
        "# **ESTRUCTURAS DE DATOS COMPLEJAS: LISTAS, TUPLAS Y SETS**"
      ]
    },
    {
      "cell_type": "markdown",
      "metadata": {
        "id": "bn3Yy_rr42FV"
      },
      "source": [
        "***\n",
        "## **LISTAS**\n",
        "***\n",
        "\n",
        "Las listas son secuencias mutables ya que permiten modificar los valores de sus elementos, eliminar o añadir elementos.\n",
        "\n",
        "En ellas se pueden almacenar tantos elementos como se desee, incluso pueden existir listas vacías (sin elementos). Para definirlas se utilizan corchetes y se separan los elementos mediante comas :\n",
        "\n",
        "`nombre_lista = [valor1, valor2, ...]`."
      ]
    },
    {
      "cell_type": "code",
      "metadata": {
        "colab": {
          "base_uri": "https://localhost:8080/"
        },
        "id": "ZU99PSIi5Kiy",
        "outputId": "2a50340c-3dd7-4cd0-e780-b99510151737"
      },
      "source": [
        "notas = [9.1, 8.5, 7.3]\n",
        "\n",
        "print(notas)\n",
        "print(type(notas))"
      ],
      "execution_count": null,
      "outputs": [
        {
          "output_type": "stream",
          "name": "stdout",
          "text": [
            "[9.1, 8.5, 7.3]\n",
            "<class 'list'>\n"
          ]
        }
      ]
    },
    {
      "cell_type": "markdown",
      "metadata": {
        "id": "I4u1trEe566v"
      },
      "source": [
        "No es necesario que una lista contenga el mismo tipo de datos. Por ejemplo, podemos tener la siguiente lista:"
      ]
    },
    {
      "cell_type": "code",
      "metadata": {
        "colab": {
          "base_uri": "https://localhost:8080/"
        },
        "id": "ElvRKGUM5-_P",
        "outputId": "3d7c6dc5-3c59-4802-e506-f8799ca75c03"
      },
      "source": [
        "lista = [\"UTN\", 2, 3.5, True]\n",
        "\n",
        "print(lista)\n",
        "print(type(lista))"
      ],
      "execution_count": null,
      "outputs": [
        {
          "output_type": "stream",
          "name": "stdout",
          "text": [
            "['UTN', 2, 3.5, True]\n",
            "<class 'list'>\n"
          ]
        }
      ]
    },
    {
      "cell_type": "markdown",
      "source": [
        "#### **MÉTODOS CON LISTAS**\n"
      ],
      "metadata": {
        "id": "XNZK3j5ypyoz"
      }
    },
    {
      "cell_type": "markdown",
      "metadata": {
        "id": "k4cQhvDH5UiR"
      },
      "source": [
        "**range**\n",
        "\n",
        "Se puede crear una lista de números automáticamente utilizando `range(inicio, fin)`."
      ]
    },
    {
      "cell_type": "code",
      "metadata": {
        "colab": {
          "base_uri": "https://localhost:8080/"
        },
        "id": "ItAc9hi_5ZUU",
        "outputId": "94f4d9f8-50b7-4e55-b4c5-2bafbfba228f"
      },
      "source": [
        "lista_range = list(range(1,10))\n",
        "\n",
        "print(lista_range)"
      ],
      "execution_count": null,
      "outputs": [
        {
          "output_type": "stream",
          "name": "stdout",
          "text": [
            "[1, 2, 3, 4, 5, 6, 7, 8, 9]\n"
          ]
        }
      ]
    },
    {
      "cell_type": "markdown",
      "metadata": {
        "id": "3oQ1y6-95gHO"
      },
      "source": [
        "Por default toma intervalos de 1 en 1. Para modificar esto basta con agregar un argumento a `range(inicio, fin, intervalo)`."
      ]
    },
    {
      "cell_type": "code",
      "metadata": {
        "colab": {
          "base_uri": "https://localhost:8080/"
        },
        "id": "k1JbkXg95tiy",
        "outputId": "3f2337c9-9d12-4db7-ebd7-6bfd5b7592c2"
      },
      "source": [
        "lista_range = list(range(1,10,2))\n",
        "\n",
        "print(lista_range)"
      ],
      "execution_count": null,
      "outputs": [
        {
          "output_type": "stream",
          "name": "stdout",
          "text": [
            "[1, 3, 5, 7, 9]\n"
          ]
        }
      ]
    },
    {
      "cell_type": "markdown",
      "source": [
        "**split**\n",
        "\n",
        "Permite crear una lista a partir de un string, utilizando un caracter específico como separador. Por defecto, utiliza los espacios para separar el string en distintos elementos de la lista."
      ],
      "metadata": {
        "id": "-ztacGTvqzeq"
      }
    },
    {
      "cell_type": "code",
      "metadata": {
        "id": "HzV7oZNJf3hP",
        "colab": {
          "base_uri": "https://localhost:8080/"
        },
        "outputId": "98890aed-4675-4e08-8856-7f5d4804b8d1"
      },
      "source": [
        "hello_world_string = 'Hello world!'\n",
        "lista_separada = hello_world_string.split()\n",
        "\n",
        "print(lista_separada)"
      ],
      "execution_count": null,
      "outputs": [
        {
          "output_type": "stream",
          "name": "stdout",
          "text": [
            "['Hello', 'world!']\n"
          ]
        }
      ]
    },
    {
      "cell_type": "markdown",
      "source": [
        "***Slicing***\n",
        "\n",
        "Es posible acceder a los distintos elementos de una lista utilizando el índice del mismo, de manera análoga a como se realiza con los strings `nombre_lista[índice_elemento]`."
      ],
      "metadata": {
        "id": "U8F3_45Tuv9R"
      }
    },
    {
      "cell_type": "code",
      "source": [
        "lista = [\"UTN\", 2, 3.5, True]\n",
        "\n",
        "posicion_1_lista = lista[0]\n",
        "\n",
        "print(posicion_1_lista)\n",
        "print(type(posicion_1_lista))"
      ],
      "metadata": {
        "colab": {
          "base_uri": "https://localhost:8080/"
        },
        "id": "4HV-f_Y1uvY0",
        "outputId": "db131e39-a7a1-4ec2-daae-4f8af18c68c8"
      },
      "execution_count": null,
      "outputs": [
        {
          "output_type": "stream",
          "name": "stdout",
          "text": [
            "UTN\n",
            "<class 'str'>\n"
          ]
        }
      ]
    },
    {
      "cell_type": "code",
      "source": [
        "rango_lista = lista[0:3]\n",
        "print(rango_lista)"
      ],
      "metadata": {
        "colab": {
          "base_uri": "https://localhost:8080/"
        },
        "id": "9mOHVNC3LSFj",
        "outputId": "9f1923b6-ced7-4a3b-913c-e01aa4e33456"
      },
      "execution_count": null,
      "outputs": [
        {
          "output_type": "stream",
          "name": "stdout",
          "text": [
            "['UTN', 2, 3.5]\n"
          ]
        }
      ]
    },
    {
      "cell_type": "markdown",
      "source": [
        "***Añadir elementos***\n",
        "\n",
        "Se usa la sentencia `nombreLista.append(elementoAAñadir)`.\n",
        "\n",
        "Notar que no es necesario sobreescribir la variable, las sentencia `append()` modifica la lista sin necesidad de sobreescribirla."
      ],
      "metadata": {
        "id": "VnIAWxyJ8fC4"
      }
    },
    {
      "cell_type": "code",
      "source": [
        "print(notas)"
      ],
      "metadata": {
        "colab": {
          "base_uri": "https://localhost:8080/"
        },
        "id": "Ok3csCG_Lhge",
        "outputId": "033f68ee-470b-4f3a-ea9a-83df4a04cbe6"
      },
      "execution_count": null,
      "outputs": [
        {
          "output_type": "stream",
          "name": "stdout",
          "text": [
            "[9.1, 8.5, 7.3]\n"
          ]
        }
      ]
    },
    {
      "cell_type": "code",
      "metadata": {
        "id": "0enI9d7Nz05h",
        "colab": {
          "base_uri": "https://localhost:8080/"
        },
        "outputId": "cdca07ec-b792-4bd5-85eb-d664dfcaafd0"
      },
      "source": [
        "notas.append(9.2)\n",
        "notas.append(False)\n",
        "print(notas)"
      ],
      "execution_count": null,
      "outputs": [
        {
          "output_type": "stream",
          "name": "stdout",
          "text": [
            "[9.1, 8.5, 7.3, 9.2, False]\n"
          ]
        }
      ]
    },
    {
      "cell_type": "markdown",
      "metadata": {
        "id": "06FIFwNeNE0w"
      },
      "source": [
        "***Eliminar elementos***\n",
        "\n",
        "Se usa la sentencia `nombreLista.remove(elementoAEliminar)`.\n"
      ]
    },
    {
      "cell_type": "code",
      "metadata": {
        "colab": {
          "base_uri": "https://localhost:8080/"
        },
        "id": "3sj5NFw2NE03",
        "outputId": "f18afe36-af1c-4ae9-b570-8b00f82ae68a"
      },
      "source": [
        "notas.remove(9.2)\n",
        "notas.remove(False)\n",
        "print(notas)"
      ],
      "execution_count": null,
      "outputs": [
        {
          "output_type": "stream",
          "name": "stdout",
          "text": [
            "[9.1, 8.5, 7.3]\n"
          ]
        }
      ]
    },
    {
      "cell_type": "markdown",
      "source": [
        "***Actualizar elementos***\n",
        "\n",
        "Para esto se hace uso del slicing. Esta operación diferencia una lista de un string, ya que no puede ser efectuada en el segundo tipo de dato. <Por ejemplo, si queremos actualizar el tercer elemento:"
      ],
      "metadata": {
        "id": "hpW3x2TSpRMG"
      }
    },
    {
      "cell_type": "code",
      "source": [
        "notas[2] = \"Hola mundo\"\n",
        "\n",
        "print(notas)"
      ],
      "metadata": {
        "colab": {
          "base_uri": "https://localhost:8080/"
        },
        "id": "vugjBINkpQxe",
        "outputId": "0067fb24-8550-44bf-827d-c78adac23ee2"
      },
      "execution_count": null,
      "outputs": [
        {
          "output_type": "stream",
          "name": "stdout",
          "text": [
            "[9.1, 8.5, 'Hola mundo']\n"
          ]
        }
      ]
    },
    {
      "cell_type": "markdown",
      "metadata": {
        "id": "VE2EvtNzz05i"
      },
      "source": [
        "***Concatenación***\n",
        "\n",
        "Se pueden concatenar dos listas usando el operador de la suma (**+**)."
      ]
    },
    {
      "cell_type": "code",
      "metadata": {
        "id": "DBK_ZK9hz05j",
        "colab": {
          "base_uri": "https://localhost:8080/"
        },
        "outputId": "020e1328-e649-4449-ebf8-0e4e1f2c07de"
      },
      "source": [
        "notas_2 = notas + [\"UTN\", True]\n",
        "\n",
        "print(notas_2)"
      ],
      "execution_count": null,
      "outputs": [
        {
          "output_type": "stream",
          "name": "stdout",
          "text": [
            "[9.1, 8.5, 'Hola mundo', 'UTN', True]\n"
          ]
        }
      ]
    },
    {
      "cell_type": "markdown",
      "metadata": {
        "id": "mg38bjQ4z05n"
      },
      "source": [
        "***Comprobar si un valor existe dentro de la lista***\n",
        "\n",
        "Se usa el término `in`."
      ]
    },
    {
      "cell_type": "code",
      "metadata": {
        "id": "QamzovNjz05o",
        "colab": {
          "base_uri": "https://localhost:8080/"
        },
        "outputId": "88042079-5df0-460b-b357-112c34b3852f"
      },
      "source": [
        "print(8 in notas_2)"
      ],
      "execution_count": null,
      "outputs": [
        {
          "output_type": "stream",
          "name": "stdout",
          "text": [
            "False\n"
          ]
        }
      ]
    },
    {
      "cell_type": "code",
      "source": [
        "print('UTN' in notas_2)"
      ],
      "metadata": {
        "colab": {
          "base_uri": "https://localhost:8080/"
        },
        "id": "8dwQxp_iowtd",
        "outputId": "4fc0b2b9-82c3-4171-c4e2-6dd397b0a1e2"
      },
      "execution_count": null,
      "outputs": [
        {
          "output_type": "stream",
          "name": "stdout",
          "text": [
            "True\n"
          ]
        }
      ]
    },
    {
      "cell_type": "markdown",
      "metadata": {
        "id": "FsKs9MrD6UlO"
      },
      "source": [
        "#### **LISTAS ANIDADAS**\n",
        "\n",
        "Pueden haber listas adentro de otras listas, por ejemplo:"
      ]
    },
    {
      "cell_type": "code",
      "metadata": {
        "colab": {
          "base_uri": "https://localhost:8080/"
        },
        "id": "uYSrcLBt6YZk",
        "outputId": "bf2cc171-3184-492b-f0ba-e18f9c60384c"
      },
      "source": [
        "lista_anidada = [1, 1.3, [\"UTN\", \"Mendoza\"]]\n",
        "\n",
        "print(lista_anidada)"
      ],
      "execution_count": null,
      "outputs": [
        {
          "output_type": "stream",
          "name": "stdout",
          "text": [
            "[1, 1.3, ['UTN', 'Mendoza']]\n"
          ]
        }
      ]
    },
    {
      "cell_type": "code",
      "source": [
        "posicion_2_lista = lista_anidada[2]\n",
        "print(posicion_2_lista)"
      ],
      "metadata": {
        "colab": {
          "base_uri": "https://localhost:8080/"
        },
        "id": "_42jQMnQNv-6",
        "outputId": "23d324d4-3bb5-4dea-bb87-9b162bfcd89b"
      },
      "execution_count": null,
      "outputs": [
        {
          "output_type": "stream",
          "name": "stdout",
          "text": [
            "['UTN', 'Mendoza']\n"
          ]
        }
      ]
    },
    {
      "cell_type": "code",
      "source": [
        "posicion_2_1_lista = lista_anidada[2][1]\n",
        "\n",
        "print(posicion_2_1_lista)"
      ],
      "metadata": {
        "colab": {
          "base_uri": "https://localhost:8080/"
        },
        "id": "ynOdot5AvLnm",
        "outputId": "177d2474-4a9d-40d9-b15f-a8f8b97e4108"
      },
      "execution_count": null,
      "outputs": [
        {
          "output_type": "stream",
          "name": "stdout",
          "text": [
            "Mendoza\n"
          ]
        }
      ]
    },
    {
      "cell_type": "markdown",
      "metadata": {
        "id": "55BedUbGWtTm"
      },
      "source": [
        "***\n",
        "## **TUPLAS**\n",
        "***\n",
        "\n",
        "Las tuplas son secuencias inmutables de datos ya que no permiten modificar los valores de sus elementos, eliminar ni añadir elementos. Si deseamos cambiar un elemento de una tupla debemos convertirla en lista con el método `list(nombreTupla)`, modificar la lista y volverla a convertir en tupla con el método `tuple(nombreLista)`.\n",
        "\n",
        "Para definirlas se usan los paréntesis.\n",
        "\n",
        "`nombre_tupla = (valor1, valor2, ...)`.\n",
        "\n",
        "Al igual que con las listas, se puede acceder a los distintos elementos de una tupla con métodos de indexación."
      ]
    },
    {
      "cell_type": "code",
      "source": [
        "tupla = (\"Hello\", 2, 3.5)\n",
        "\n",
        "print(tupla)\n",
        "print(type(tupla))"
      ],
      "metadata": {
        "colab": {
          "base_uri": "https://localhost:8080/"
        },
        "id": "h-8l6Yozr0db",
        "outputId": "ec5bdc8a-0823-495d-d7ae-bff51f90b303"
      },
      "execution_count": null,
      "outputs": [
        {
          "output_type": "stream",
          "name": "stdout",
          "text": [
            "('Hello', 2, 3.5)\n",
            "<class 'tuple'>\n"
          ]
        }
      ]
    },
    {
      "cell_type": "code",
      "source": [
        "print(tupla[2])"
      ],
      "metadata": {
        "colab": {
          "base_uri": "https://localhost:8080/"
        },
        "id": "ywsCzmVnOUY3",
        "outputId": "f1af54f8-0f8f-4dbe-f927-39a54ab75b55"
      },
      "execution_count": null,
      "outputs": [
        {
          "output_type": "stream",
          "name": "stdout",
          "text": [
            "3.5\n"
          ]
        }
      ]
    },
    {
      "cell_type": "markdown",
      "metadata": {
        "id": "gRnZFeqBz05v"
      },
      "source": [
        "***Actualizar elementos***\n",
        "\n",
        "No es posible actualizar una tupla ya que es un elemento inmutable."
      ]
    },
    {
      "cell_type": "code",
      "metadata": {
        "id": "F8ep7gSuz05w",
        "colab": {
          "base_uri": "https://localhost:8080/",
          "height": 176
        },
        "outputId": "c7f94277-6619-49fe-8d82-86d0fdfe34e4"
      },
      "source": [
        "tupla[2] = 9.0\n",
        "\n",
        "print(tupla)"
      ],
      "execution_count": null,
      "outputs": [
        {
          "output_type": "error",
          "ename": "TypeError",
          "evalue": "'tuple' object does not support item assignment",
          "traceback": [
            "\u001b[0;31m---------------------------------------------------------------------------\u001b[0m",
            "\u001b[0;31mTypeError\u001b[0m                                 Traceback (most recent call last)",
            "\u001b[0;32m<ipython-input-84-7ba6d706fcb8>\u001b[0m in \u001b[0;36m<cell line: 1>\u001b[0;34m()\u001b[0m\n\u001b[0;32m----> 1\u001b[0;31m \u001b[0mtupla\u001b[0m\u001b[0;34m[\u001b[0m\u001b[0;36m2\u001b[0m\u001b[0;34m]\u001b[0m \u001b[0;34m=\u001b[0m \u001b[0;36m9.0\u001b[0m\u001b[0;34m\u001b[0m\u001b[0;34m\u001b[0m\u001b[0m\n\u001b[0m\u001b[1;32m      2\u001b[0m \u001b[0;34m\u001b[0m\u001b[0m\n\u001b[1;32m      3\u001b[0m \u001b[0mprint\u001b[0m\u001b[0;34m(\u001b[0m\u001b[0mtupla\u001b[0m\u001b[0;34m)\u001b[0m\u001b[0;34m\u001b[0m\u001b[0;34m\u001b[0m\u001b[0m\n",
            "\u001b[0;31mTypeError\u001b[0m: 'tuple' object does not support item assignment"
          ]
        }
      ]
    },
    {
      "cell_type": "markdown",
      "metadata": {
        "id": "tJeu5qn6jqoj"
      },
      "source": [
        "***\n",
        "## **SETS**\n",
        "***\n",
        "\n",
        "Un set es una colección de elementos sin duplicados. Los sets son mutables, lo que permite agregar o eliminar elementos después de su creación.\n",
        "\n",
        "\n",
        "Para definirlos se usan los corchetes.\n",
        "\n",
        "`nombre_set = {valor1, valor2, ...}`.\n",
        "\n"
      ]
    },
    {
      "cell_type": "code",
      "source": [
        "mi_set = {33,2,4,67,28,190,2,2,3,23,54,82}\n",
        "\n",
        "print(mi_set)\n",
        "print(type(mi_set))"
      ],
      "metadata": {
        "colab": {
          "base_uri": "https://localhost:8080/"
        },
        "outputId": "9378768c-999b-4338-8ffe-77487e22aa69",
        "id": "A_frYDK5jqoj"
      },
      "execution_count": null,
      "outputs": [
        {
          "output_type": "stream",
          "name": "stdout",
          "text": [
            "{33, 2, 3, 67, 4, 82, 54, 23, 28, 190}\n",
            "<class 'set'>\n"
          ]
        }
      ]
    },
    {
      "cell_type": "markdown",
      "source": [
        "Como vemos en el ejemplo anterior, al definir `mi_set` se incluyen 12 elementos. Sin embargo, al imprimir el set por pantalla éste contiene solo 10 elementos. Esto se debe a que en la definición el número 2 se encuentra repetido y los sets excluyen duplicados.\n",
        "\n",
        "Esta misma es la razón por la cual Python no permite hacer slicing en los sets."
      ],
      "metadata": {
        "id": "-H7do8LGkqjx"
      }
    },
    {
      "cell_type": "code",
      "source": [
        "mi_set[0]"
      ],
      "metadata": {
        "colab": {
          "base_uri": "https://localhost:8080/",
          "height": 141
        },
        "id": "p6Wjpg5lkqKR",
        "outputId": "c7dac506-fa86-4a73-c1cf-cc38dd7bab2e"
      },
      "execution_count": null,
      "outputs": [
        {
          "output_type": "error",
          "ename": "TypeError",
          "evalue": "'set' object is not subscriptable",
          "traceback": [
            "\u001b[0;31m---------------------------------------------------------------------------\u001b[0m",
            "\u001b[0;31mTypeError\u001b[0m                                 Traceback (most recent call last)",
            "\u001b[0;32m<ipython-input-3-653ed2c12880>\u001b[0m in \u001b[0;36m<cell line: 1>\u001b[0;34m()\u001b[0m\n\u001b[0;32m----> 1\u001b[0;31m \u001b[0mmi_set\u001b[0m\u001b[0;34m[\u001b[0m\u001b[0;36m0\u001b[0m\u001b[0;34m]\u001b[0m\u001b[0;34m\u001b[0m\u001b[0;34m\u001b[0m\u001b[0m\n\u001b[0m",
            "\u001b[0;31mTypeError\u001b[0m: 'set' object is not subscriptable"
          ]
        }
      ]
    },
    {
      "cell_type": "markdown",
      "source": [
        "Sin embargo, si podemos usar el operador `in`:"
      ],
      "metadata": {
        "id": "U7nlB3YblJXF"
      }
    },
    {
      "cell_type": "code",
      "source": [
        "2 in mi_set"
      ],
      "metadata": {
        "colab": {
          "base_uri": "https://localhost:8080/"
        },
        "outputId": "7d846c84-fe9c-40cd-8bd1-c43da870391b",
        "id": "Z1ngZ6sEjqok"
      },
      "execution_count": null,
      "outputs": [
        {
          "output_type": "execute_result",
          "data": {
            "text/plain": [
              "True"
            ]
          },
          "metadata": {},
          "execution_count": 4
        }
      ]
    }
  ]
}