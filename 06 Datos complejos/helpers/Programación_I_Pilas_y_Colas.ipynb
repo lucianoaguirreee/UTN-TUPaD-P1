{
  "nbformat": 4,
  "nbformat_minor": 0,
  "metadata": {
    "colab": {
      "provenance": []
    },
    "kernelspec": {
      "name": "python3",
      "display_name": "Python 3"
    },
    "language_info": {
      "name": "python"
    }
  },
  "cells": [
    {
      "cell_type": "markdown",
      "source": [
        "# 🏗️ Pilas y Colas en Python - ¡Aprende Jugando! 🎮\n",
        "\n",
        "## 🚀 Introducción\n",
        "Las **pilas** y **colas** son estructuras de datos súper útiles 📦 que nos ayudan a manejar información de forma ordenada. Dependiendo de su comportamiento, pueden ser **LIFO** (Last In, First Out) o **FIFO** (First In, First Out). ¡Vamos a explorarlas con ejemplos en Python! 🐍🔥"
      ],
      "metadata": {
        "id": "57srpW_nRl6G"
      }
    },
    {
      "cell_type": "markdown",
      "source": [
        "## 📌 Pilas (Stacks)\n",
        "### 🎯 ¿Qué es una pila?\n",
        "Una **pila** sigue el principio **LIFO** (*Last In, First Out*), es decir, el último elemento en entrar es el primero en salir.\n",
        "\n",
        "**Ejemplo en la vida real:** 📚 Una pila de libros: el último que colocas encima es el primero que retiras.\n",
        "\n",
        "### 🛠️ Implementación en Python"
      ],
      "metadata": {
        "id": "tTwJggaWRra8"
      }
    },
    {
      "cell_type": "code",
      "source": [
        "class Pila:\n",
        "    def __init__(self):\n",
        "        self.elementos = []\n",
        "\n",
        "    def apilar(self, elemento):\n",
        "        self.elementos.append(elemento)  # 📌 Agregamos un elemento a la pila\n",
        "\n",
        "    def desapilar(self):\n",
        "        return self.elementos.pop() if not self.esta_vacia() else \"La pila está vacía\"  # 🔄 Quitamos el último elemento\n",
        "\n",
        "    def esta_vacia(self):\n",
        "        return len(self.elementos) == 0  # ⚠️ Verificamos si la pila está vacía\n",
        "\n",
        "    def ver_tope(self):\n",
        "        return self.elementos[-1] if not self.esta_vacia() else \"La pila está vacía\"\n",
        "\n",
        "# 🚀 Probemos nuestra pila\n",
        "pila = Pila()\n",
        "pila.apilar(\"🍎 Manzana\")\n",
        "pila.apilar(\"🍌 Banana\")\n",
        "pila.apilar(\"🍇 Uva\")\n",
        "print(pila.desapilar())  # Salida esperada: 🍇 Uva"
      ],
      "metadata": {
        "id": "znG_5a05RyKk"
      },
      "execution_count": null,
      "outputs": []
    },
    {
      "cell_type": "markdown",
      "source": [
        "## 📌 Colas (Queues)\n",
        "### 🎯 ¿Qué es una cola?\n",
        "Una **cola** sigue el principio **FIFO** (*First In, First Out*), es decir, el primer elemento en entrar es el primero en salir.\n",
        "\n",
        "**Ejemplo en la vida real:** 🏦 Una fila en el banco: la primera persona en llegar es la primera en ser atendida.\n",
        "\n",
        "### 🛠️ Implementación en Python"
      ],
      "metadata": {
        "id": "oOVavfxcR2vs"
      }
    },
    {
      "cell_type": "code",
      "source": [
        "from collections import deque\n",
        "\n",
        "class Cola:\n",
        "    def __init__(self):\n",
        "        self.elementos = deque()\n",
        "\n",
        "    def encolar(self, elemento):\n",
        "        self.elementos.append(elemento)  # 📌 Agregamos un elemento a la cola\n",
        "\n",
        "    def desencolar(self):\n",
        "        return self.elementos.popleft() if not self.esta_vacia() else \"La cola está vacía\"  # 🔄 Quitamos el primer elemento\n",
        "\n",
        "    def esta_vacia(self):\n",
        "        return len(self.elementos) == 0  # ⚠️ Verificamos si la cola está vacía\n",
        "\n",
        "    def ver_frente(self):\n",
        "        return self.elementos[0] if not self.esta_vacia() else \"La cola está vacía\"\n",
        "\n",
        "# 🚀 Probemos nuestra cola\n",
        "cola = Cola()\n",
        "cola.encolar(\"🎟️ Ticket 1\")\n",
        "cola.encolar(\"🎟️ Ticket 2\")\n",
        "cola.encolar(\"🎟️ Ticket 3\")\n",
        "print(cola.desencolar())  # Salida esperada: 🎟️ Ticket 1"
      ],
      "metadata": {
        "id": "R-02j-mpR6kc"
      },
      "execution_count": null,
      "outputs": []
    },
    {
      "cell_type": "markdown",
      "source": [
        "## 🎯 Aplicaciones de Pilas y Colas\n",
        "Las **pilas** y **colas** se utilizan en muchos escenarios del mundo real y la informática:\n",
        "✅ **Gestión de llamadas en sistemas operativos** 🖥️\n",
        "✅ **Control de expresiones matemáticas** ➗\n",
        "✅ **Planificación de tareas en sistemas informáticos** ⏳\n",
        "✅ **Navegadores web (pila de retroceso y avance)** 🌐\n",
        "✅ **Procesamiento de mensajes en sistemas de colas** 📬"
      ],
      "metadata": {
        "id": "xwPVNFMiR_iF"
      }
    },
    {
      "cell_type": "markdown",
      "source": [
        "---\n",
        "## 🏆 Conclusión\n",
        "Las **pilas y colas** son herramientas esenciales para manejar estructuras de datos dinámicas.\n",
        "\n",
        "🎉 Ahora ya sabes cómo funcionan y cómo programarlas en Python. 🚀\n",
        "\n",
        "Si quieres seguir aprendiendo, experimenta con estos códigos y prueba nuevas funcionalidades. ¡Diviértete programando! 😃🔥\n",
        "---"
      ],
      "metadata": {
        "id": "YGZWGI6USDuj"
      }
    }
  ]
}