{
  "nbformat": 4,
  "nbformat_minor": 0,
  "metadata": {
    "celltoolbar": "Slideshow",
    "kernelspec": {
      "display_name": "Python 3",
      "language": "python",
      "name": "python3"
    },
    "language_info": {
      "codemirror_mode": {
        "name": "ipython",
        "version": 3
      },
      "file_extension": ".py",
      "mimetype": "text/x-python",
      "name": "python",
      "nbconvert_exporter": "python",
      "pygments_lexer": "ipython3",
      "version": "3.6.9"
    },
    "colab": {
      "provenance": []
    }
  },
  "cells": [
    {
      "cell_type": "markdown",
      "metadata": {
        "id": "Hz80XsvSfe67"
      },
      "source": [
        "# **ESTRUCTURAS DE DATOS COMPLEJAS: DICCIONARIOS Y OBJETOS**\n"
      ]
    },
    {
      "cell_type": "markdown",
      "metadata": {
        "id": "c7Ot0hAmVh46"
      },
      "source": [
        "***\n",
        "## **DICCIONARIOS**\n",
        "***\n",
        "\n",
        "Los diccionarios almacenan datos en pares key-value que, a diferencia de una lista o una tupla, no necesariamente tienen que estar ordenados ya que el indexing no se hace a través de números sino a través de keys únicas.\n",
        "\n",
        "Para definirlos se usan las llaves.\n",
        "\n",
        "`nombre_diccionario = {\"key1\": value1, \"key2\": value2, ...}`.\n",
        "\n",
        "Tanto las key como los values pueden ser de distintos tipos de datos (numéricos, strings, booleanos, etc)."
      ]
    },
    {
      "cell_type": "code",
      "metadata": {
        "colab": {
          "base_uri": "https://localhost:8080/"
        },
        "id": "N3eUHrww10zr",
        "outputId": "085e5e52-f312-453c-af1f-76d5a5a53e2c"
      },
      "source": [
        "colores =  {'azul': 'blue', 'negro': 'black', 'rosado':'pink'}\n",
        "print(colores)"
      ],
      "execution_count": null,
      "outputs": [
        {
          "output_type": "stream",
          "name": "stdout",
          "text": [
            "{'azul': 'blue', 'negro': 'black', 'rosado': 'pink'}\n"
          ]
        }
      ]
    },
    {
      "cell_type": "code",
      "metadata": {
        "colab": {
          "base_uri": "https://localhost:8080/"
        },
        "id": "MG982bpv16Qo",
        "outputId": "9998a53c-8dca-4310-86f6-c956d61aee2e"
      },
      "source": [
        "propiedades = {1:'Nombre', 2:'Apellido', 3:300, 4:'Región'}\n",
        "print(propiedades)"
      ],
      "execution_count": null,
      "outputs": [
        {
          "output_type": "stream",
          "name": "stdout",
          "text": [
            "{1: 'Nombre', 2: 'Apellido', 3: 300, 4: 'Región'}\n"
          ]
        }
      ]
    },
    {
      "cell_type": "code",
      "metadata": {
        "colab": {
          "base_uri": "https://localhost:8080/"
        },
        "id": "LxKdl6oMV1sG",
        "outputId": "de5c93cf-a10e-4033-e4cb-8e0614ed46b9"
      },
      "source": [
        "notas = {\"Micaela\":9.1, \"Paula\":8.5, \"Lionel\": 7.3}\n",
        "print(notas)"
      ],
      "execution_count": null,
      "outputs": [
        {
          "output_type": "stream",
          "name": "stdout",
          "text": [
            "{'Micaela': 9.1, 'Paula': 8.5, 'Lionel': 7.3}\n"
          ]
        }
      ]
    },
    {
      "cell_type": "markdown",
      "metadata": {
        "id": "RI2mJC4DKFoD"
      },
      "source": [
        "#### **MÉTODOS CON DICCIONARIOS**\n",
        "\n",
        "***Recuperar valores***\n",
        "\n",
        "Para recuperar los valores del diccionario en una lista se usa `nombre_diccionario.values()`."
      ]
    },
    {
      "cell_type": "code",
      "metadata": {
        "colab": {
          "base_uri": "https://localhost:8080/"
        },
        "id": "IXC9g9D6WPKe",
        "outputId": "a0cd0b2b-be44-448e-8c6f-88529b3d998f"
      },
      "source": [
        "notas.values()"
      ],
      "execution_count": null,
      "outputs": [
        {
          "output_type": "execute_result",
          "data": {
            "text/plain": [
              "dict_values([9.1, 8.5, 7.3])"
            ]
          },
          "metadata": {},
          "execution_count": 7
        }
      ]
    },
    {
      "cell_type": "markdown",
      "metadata": {
        "id": "s81GvBbjWU6Q"
      },
      "source": [
        "***Recuperar keys***\n",
        "\n",
        "Para recuperar las keys se usa `nombre_diccionario.keys()`."
      ]
    },
    {
      "cell_type": "code",
      "metadata": {
        "colab": {
          "base_uri": "https://localhost:8080/"
        },
        "id": "1ddqE-ASWbWu",
        "outputId": "9156e3a4-54fb-4809-c4ef-484fd6b26cd0"
      },
      "source": [
        "notas.keys()"
      ],
      "execution_count": null,
      "outputs": [
        {
          "output_type": "execute_result",
          "data": {
            "text/plain": [
              "dict_keys(['Micaela', 'Paula', 'Lionel'])"
            ]
          },
          "metadata": {},
          "execution_count": 8
        }
      ]
    },
    {
      "cell_type": "markdown",
      "metadata": {
        "id": "Uk6M4H_vz7Tw"
      },
      "source": [
        "***Elegir un elemento utilizando la key***\n",
        "\n",
        "Se usa `nombre_diccionario[nombre_key]`."
      ]
    },
    {
      "cell_type": "code",
      "metadata": {
        "id": "bI7sZsiDz7Ty",
        "colab": {
          "base_uri": "https://localhost:8080/"
        },
        "outputId": "8dac0c0d-b751-4bf0-b1b1-070e71ee9421"
      },
      "source": [
        "print(notas['Paula'])"
      ],
      "execution_count": null,
      "outputs": [
        {
          "output_type": "stream",
          "name": "stdout",
          "text": [
            "8.5\n"
          ]
        }
      ]
    },
    {
      "cell_type": "markdown",
      "metadata": {
        "id": "ir0_XjrZz7T0"
      },
      "source": [
        "***Modificar los valores de una key***\n",
        "\n",
        "Se usa `nombre_diccionario[nombre_key_existente] = valor_nuevo`."
      ]
    },
    {
      "cell_type": "code",
      "metadata": {
        "id": "O3oHoWRdz7T1",
        "colab": {
          "base_uri": "https://localhost:8080/"
        },
        "outputId": "9ca676ec-fb9c-42c0-c809-f3a1cce5836d"
      },
      "source": [
        "notas['Paula'] = 6.0\n",
        "\n",
        "print(notas)"
      ],
      "execution_count": null,
      "outputs": [
        {
          "output_type": "stream",
          "name": "stdout",
          "text": [
            "{'Micaela': 9.1, 'Paula': 6.0, 'Lionel': 7.3}\n"
          ]
        }
      ]
    },
    {
      "cell_type": "markdown",
      "metadata": {
        "id": "sKONwAcewXbI"
      },
      "source": [
        "***Agregar un nuevo par key-value***\n",
        "\n",
        "Se usa `nombre_diccionario[nombre_key_nueva] = valor_nuevo`."
      ]
    },
    {
      "cell_type": "code",
      "metadata": {
        "colab": {
          "base_uri": "https://localhost:8080/"
        },
        "outputId": "181e8306-aff7-4994-bc89-66708fb19dc7",
        "id": "cTiR8ZDDwXbX"
      },
      "source": [
        "notas['Darío'] = 10.0\n",
        "\n",
        "print(notas)"
      ],
      "execution_count": null,
      "outputs": [
        {
          "output_type": "stream",
          "name": "stdout",
          "text": [
            "{'Micaela': 9.1, 'Paula': 6.0, 'Lionel': 7.3, 'Darío': 10.0}\n"
          ]
        }
      ]
    },
    {
      "cell_type": "markdown",
      "source": [
        "\n",
        "***\n",
        "### **CLASES Y OBJETOS**##\n",
        "***\n",
        "\n",
        "\n",
        "Los diccionarios de Python son útiles para almacenar y organizar datos en pares clave-valor, pero no son suficientes para describir situaciones del mundo real que involucren relaciones más complejas o comportamientos asociados a esos datos. Por ejemplo, un diccionario puede ser útil para representar las características de una persona, como nombre, edad y dirección, pero no puede reflejar el comportamiento de esa persona, como hablar, caminar o trabajar. Tampoco permite agrupar de manera intuitiva las características y comportamientos relacionados de una forma jerárquica o extensible.\n",
        "\n",
        "Es en este tipo de situaciones donde entran en escena los objetos. Los objetos, creados a partir de clases, permiten no solo almacenar variables (atributos) sino también asociarles métodos (funciones) que definan comportamientos. Así, un objeto puede modelar de manera más precisa una entidad del mundo real, como un Coche con atributos como marca, modelo y color, pero también con métodos como arrancar() o detener(), que le otorgan funcionalidad. A diferencia de los diccionarios, los objetos permiten encapsular tanto los datos como la lógica, facilitando la creación de sistemas más complejos y flexibles, donde las interacciones entre las entidades son clave.\n"
      ],
      "metadata": {
        "id": "LA8b7NR73osN"
      }
    },
    {
      "cell_type": "markdown",
      "source": [
        "####**CLASES**\n",
        "\n",
        "Las clases son plantillas genéricas a partir de la cual creamos los objetos. Son como un molde para crear objetos.\n",
        "\n",
        "El siguiente código crea una clase vacía:\n"
      ],
      "metadata": {
        "id": "LsNhzKbNNY6K"
      }
    },
    {
      "cell_type": "code",
      "execution_count": null,
      "metadata": {
        "id": "XRheyJq5mlM4"
      },
      "outputs": [],
      "source": [
        "# Declaro una clase vacía\n",
        "class Perro:\n",
        "  pass"
      ]
    },
    {
      "cell_type": "markdown",
      "source": [
        "El siguiente código crea una clase con 2 atributos: color_de_pelo y largo_de_pelo"
      ],
      "metadata": {
        "id": "5HnmJm4SrQM0"
      }
    },
    {
      "cell_type": "code",
      "source": [
        "# Declaramos una clase con dos atributos\n",
        "class Perro:\n",
        "  color_de_pelo = 'Negro'\n",
        "  largo_de_pelo = 'Corto'"
      ],
      "metadata": {
        "id": "7D_x4pLVrXOO"
      },
      "execution_count": null,
      "outputs": []
    },
    {
      "cell_type": "markdown",
      "source": [
        "Las clases también pueden tener métodos, que son análogos a las funciones de Python. La única diferencia es que siempre llevarán la palabra clave `self` como argumento.\n",
        "\n",
        "Por ejemplo, la siguiente clase tiene los mismos atributos declarados anteriormente y dos métodos: ladrar y dormir."
      ],
      "metadata": {
        "id": "CzsE31ZUuEU7"
      }
    },
    {
      "cell_type": "code",
      "source": [
        "# Declaramos una clase con dos atributos y dos métodos\n",
        "class Perro:\n",
        "  color_de_pelo = 'Negro'\n",
        "  largo_de_pelo = 'Corto'\n",
        "\n",
        "  def ladrar(self):\n",
        "    print('Guau, guau!')\n",
        "\n",
        "  def dormir(self):\n",
        "    print(\"Zzzzzzzz\")"
      ],
      "metadata": {
        "id": "dBwPO7PzuO2k"
      },
      "execution_count": null,
      "outputs": []
    },
    {
      "cell_type": "markdown",
      "source": [
        "Los métodos de una clase, al igual que las funciones de Python, además del self pueden tener cero, uno o varios argumentos y pueden o no retornar datos."
      ],
      "metadata": {
        "id": "mtkxsvg-ubk9"
      }
    },
    {
      "cell_type": "markdown",
      "source": [
        "####**OBJETOS**\n",
        "\n",
        "Un objeto es una instancia concreta de una clase. Es una entidad creada a partir de la plantilla que define la clase, y tiene sus propios valores para los atributos definidos en la clase.\n",
        "\n",
        "Para instanciar un objeto (es decir, crearlo), se usa:\n",
        "\n",
        "```python\n",
        "nombre_objeto = nombre_clase()\n",
        "```\n"
      ],
      "metadata": {
        "id": "KaJMiwFftS42"
      }
    },
    {
      "cell_type": "code",
      "source": [
        "# Instanciamos un objeto a partir de la clase Perro()\n",
        "labrador = Perro()"
      ],
      "metadata": {
        "id": "ACVKF_bmrSD_"
      },
      "execution_count": null,
      "outputs": []
    },
    {
      "cell_type": "markdown",
      "source": [
        "Podemos ver que el objeto tendrá los atributos y métodos que definimos en la clase. Para acceder a un atributo de un objeto utilizamos\n",
        "\n",
        "```\n",
        "nombre_objeto.nombre_atributo\n",
        "```"
      ],
      "metadata": {
        "id": "ylJGMxqasCqc"
      }
    },
    {
      "cell_type": "code",
      "source": [
        "# Accedemos al atributo color_de_pelo del objeto labrador\n",
        "print(labrador.color_de_pelo)"
      ],
      "metadata": {
        "colab": {
          "base_uri": "https://localhost:8080/"
        },
        "id": "wCmc1gswrzem",
        "outputId": "fd28aea1-87f9-4e3a-95cd-1ebc0c385254"
      },
      "execution_count": null,
      "outputs": [
        {
          "output_type": "stream",
          "name": "stdout",
          "text": [
            "Negro\n"
          ]
        }
      ]
    },
    {
      "cell_type": "markdown",
      "source": [
        "Para utilizar un método hacemos:\n",
        "\n",
        "\n",
        "\n",
        "```\n",
        "nombre_objeto.nombre_metodo()\n",
        "```\n",
        "\n"
      ],
      "metadata": {
        "id": "0yTMOzh5r52S"
      }
    },
    {
      "cell_type": "code",
      "source": [
        "# Utilizamos el método ladrar del objeto\n",
        "print(labrador.ladrar())"
      ],
      "metadata": {
        "colab": {
          "base_uri": "https://localhost:8080/"
        },
        "id": "hUna1DXPr88t",
        "outputId": "69a33205-0f66-405c-d007-965c66d91c3c"
      },
      "execution_count": null,
      "outputs": [
        {
          "output_type": "stream",
          "name": "stdout",
          "text": [
            "Guau, guau!\n",
            "None\n"
          ]
        }
      ]
    }
  ]
}