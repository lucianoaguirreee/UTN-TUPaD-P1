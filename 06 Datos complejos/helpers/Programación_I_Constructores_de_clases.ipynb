{
  "nbformat": 4,
  "nbformat_minor": 0,
  "metadata": {
    "colab": {
      "provenance": []
    },
    "kernelspec": {
      "name": "python3",
      "display_name": "Python 3"
    },
    "language_info": {
      "name": "python"
    }
  },
  "cells": [
    {
      "cell_type": "markdown",
      "source": [
        "# Constructores de Clases en Python\n",
        "\n",
        "##🏗️ ¿Qué es un Constructor?\n",
        "\n",
        "En Python, el constructor es un método especial que se ejecuta automáticamente cuando se crea un objeto a partir de una clase. Su función principal es inicializar los atributos del objeto, es decir, asignar valores a las variables que definirán el estado del objeto. En Python, este constructor se define con el nombre `__init__`.\n",
        "\n",
        "##✨ Sintaxis del Constructor\n",
        "\n",
        "El constructor de una clase se define dentro de la misma clase utilizando el método `__init__`. Este método recibe siempre al menos un argumento: `self`, que hace referencia al objeto que se está creando. Además, puede recibir otros argumentos que serán utilizados para inicializar los atributos del objeto."
      ],
      "metadata": {
        "id": "xojGODIDlb4q"
      }
    },
    {
      "cell_type": "code",
      "source": [
        "class Persona:\n",
        "    def __init__(self, nombre, edad):\n",
        "        self.nombre = nombre  # Atributo 'nombre' inicializado con el valor pasado al constructor\n",
        "        self.edad = edad      # Atributo 'edad' inicializado con el valor pasado al constructor"
      ],
      "metadata": {
        "id": "OEjOemyelyIT"
      },
      "execution_count": null,
      "outputs": []
    },
    {
      "cell_type": "markdown",
      "source": [
        "##🚀 Ejemplo Práctico\n",
        "\n",
        "Imagina que queremos crear una clase Coche, que tiene atributos como marca, modelo, y año. Usamos el constructor para inicializar estos valores cuando creamos un nuevo objeto de la clase."
      ],
      "metadata": {
        "id": "dJy_PJnEl1UZ"
      }
    },
    {
      "cell_type": "code",
      "source": [
        "class Coche:\n",
        "    def __init__(self, marca, modelo, año):\n",
        "        self.marca = marca\n",
        "        self.modelo = modelo\n",
        "        self.año = año\n",
        "\n",
        "    def mostrar_informacion(self):\n",
        "        print(f\"Marca: {self.marca}, Modelo: {self.modelo}, Año: {self.año}\")\n"
      ],
      "metadata": {
        "id": "GpOHuceCmMxp"
      },
      "execution_count": null,
      "outputs": []
    },
    {
      "cell_type": "markdown",
      "source": [
        "Ahora, cuando instanciamos un objeto de la clase Coche, le pasamos los valores que queremos para marca, modelo y año:"
      ],
      "metadata": {
        "id": "gBLlSaENmPoQ"
      }
    },
    {
      "cell_type": "code",
      "source": [
        "# Creamos un objeto 'mi_coche' de la clase 'Coche'\n",
        "mi_coche = Coche(\"Toyota\", \"Corolla\", 2020)\n",
        "\n",
        "# Llamamos al método 'mostrar_informacion' del objeto\n",
        "mi_coche.mostrar_informacion()\n",
        "# Salida esperada: Marca: Toyota, Modelo: Corolla, Año: 2020\n"
      ],
      "metadata": {
        "colab": {
          "base_uri": "https://localhost:8080/"
        },
        "id": "GrxYr4U0mSHS",
        "outputId": "6fe96451-e9a3-4a70-a34d-5fc93e92556f"
      },
      "execution_count": null,
      "outputs": [
        {
          "output_type": "stream",
          "name": "stdout",
          "text": [
            "Marca: Toyota, Modelo: Corolla, Año: 2020\n"
          ]
        }
      ]
    },
    {
      "cell_type": "markdown",
      "source": [
        "##🛠️ Función del Constructor\n",
        "\n",
        "1. Inicialización de Atributos: El constructor es el lugar donde definimos y asignamos valores iniciales a los atributos del objeto.\n",
        "2. Crear Objetos Personalizados: Nos permite crear objetos de clases con valores específicos para sus atributos, lo que hace que cada objeto sea único, pero basado en la misma clase.\n",
        "\n",
        "##💡 Construcción de Objetos con el Constructor\n",
        "\n",
        "Cuando creas un objeto, el constructor se ejecuta automáticamente, y no es necesario llamarlo explícitamente. Es decir, el constructor es una forma de crear un objeto configurado con valores predeterminados o pasados como parámetros."
      ],
      "metadata": {
        "id": "nc4Ses6tmUd_"
      }
    },
    {
      "cell_type": "code",
      "source": [
        "# Crear un objeto utilizando el constructor con parámetros\n",
        "persona = Persona(\"Juan\", 30)\n",
        "\n",
        "# Acceder a los atributos del objeto\n",
        "print(persona.nombre)  # Salida: Juan\n",
        "print(persona.edad)    # Salida: 30\n"
      ],
      "metadata": {
        "colab": {
          "base_uri": "https://localhost:8080/"
        },
        "id": "M7LVEEC2m2PM",
        "outputId": "ecd3c90f-e6e2-4fa3-a93b-e8e1f14ebf9a"
      },
      "execution_count": null,
      "outputs": [
        {
          "output_type": "stream",
          "name": "stdout",
          "text": [
            "Juan\n",
            "30\n"
          ]
        }
      ]
    },
    {
      "cell_type": "markdown",
      "source": [
        "##🏆 ¿Por qué usar el Constructor?\n",
        "\n",
        "* Modularidad: Permite crear objetos con diferentes atributos sin tener que configurar cada uno manualmente.\n",
        "* Claridad: El constructor proporciona una forma clara de cómo deben ser inicializados los objetos de una clase.\n",
        "* Facilidad de uso: Simplifica la creación de objetos, ya que los valores de los atributos se pasan directamente en el momento de la creación del objeto."
      ],
      "metadata": {
        "id": "qLHt5Qlnm6i9"
      }
    }
  ]
}